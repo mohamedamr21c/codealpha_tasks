{
 "cells": [
  {
   "cell_type": "markdown",
   "id": "d9f00227",
   "metadata": {},
   "source": [
    "<div style=\"padding: 50px; text-align: center; font-size: 40px; font-weight: bold;\n",
    "    color: white; \n",
    "    background: linear-gradient(135deg, #1e3c72, #2a5298, #ff416c, #ff4b2b);\n",
    "    background-size: 400% 400%;\n",
    "    animation: gradientBG 8s ease infinite;\n",
    "    border-radius: 15px;\n",
    "    box-shadow: 0 0 20px rgba(0,0,0,0.3);\">\n",
    "\n",
    "  Credit Scoring\n",
    "\n",
    "</div>\n",
    "\n",
    "<style>\n",
    "@keyframes gradientBG {\n",
    "    0% {background-position: 0% 50%;}\n",
    "    50% {background-position: 100% 50%;}\n",
    "    100% {background-position: 0% 50%;}\n",
    "}\n",
    "</style>\n"
   ]
  },
  {
   "cell_type": "markdown",
   "id": "6f6ce360",
   "metadata": {},
   "source": [
    "# **1. Import libraries**"
   ]
  },
  {
   "cell_type": "code",
   "execution_count": null,
   "id": "83b7cc71",
   "metadata": {},
   "outputs": [],
   "source": [
    "import pandas as pd\n",
    "import numpy as np\n",
    "import matplotlib.pyplot as plt\n",
    "import seaborn as sns\n",
    "from sklearn.preprocessing import StandardScaler\n",
    "from sklearn.model_selection import train_test_split, GridSearchCV\n",
    "from sklearn.pipeline import Pipeline\n",
    "from sklearn.linear_model import LogisticRegression\n",
    "from sklearn.tree import DecisionTreeClassifier\n",
    "from sklearn.ensemble import RandomForestClassifier\n",
    "from sklearn.metrics import accuracy_score, classification_report, confusion_matrix, roc_curve, auc"
   ]
  },
  {
   "cell_type": "code",
   "execution_count": 4,
   "id": "de35863c",
   "metadata": {},
   "outputs": [
    {
     "data": {
      "text/html": [
       "<div>\n",
       "<style scoped>\n",
       "    .dataframe tbody tr th:only-of-type {\n",
       "        vertical-align: middle;\n",
       "    }\n",
       "\n",
       "    .dataframe tbody tr th {\n",
       "        vertical-align: top;\n",
       "    }\n",
       "\n",
       "    .dataframe thead th {\n",
       "        text-align: right;\n",
       "    }\n",
       "</style>\n",
       "<table border=\"1\" class=\"dataframe\">\n",
       "  <thead>\n",
       "    <tr style=\"text-align: right;\">\n",
       "      <th></th>\n",
       "      <th>income</th>\n",
       "      <th>loan_amount</th>\n",
       "      <th>term</th>\n",
       "      <th>credit_history</th>\n",
       "      <th>defaulted</th>\n",
       "    </tr>\n",
       "  </thead>\n",
       "  <tbody>\n",
       "    <tr>\n",
       "      <th>0</th>\n",
       "      <td>60940.854754</td>\n",
       "      <td>17402.715471</td>\n",
       "      <td>60</td>\n",
       "      <td>1.0</td>\n",
       "      <td>1</td>\n",
       "    </tr>\n",
       "    <tr>\n",
       "      <th>1</th>\n",
       "      <td>49511.242579</td>\n",
       "      <td>6664.626123</td>\n",
       "      <td>36</td>\n",
       "      <td>0.0</td>\n",
       "      <td>0</td>\n",
       "    </tr>\n",
       "    <tr>\n",
       "      <th>2</th>\n",
       "      <td>63658.393686</td>\n",
       "      <td>17985.281393</td>\n",
       "      <td>60</td>\n",
       "      <td>0.0</td>\n",
       "      <td>1</td>\n",
       "    </tr>\n",
       "    <tr>\n",
       "      <th>3</th>\n",
       "      <td>79414.537415</td>\n",
       "      <td>21001.173770</td>\n",
       "      <td>36</td>\n",
       "      <td>1.0</td>\n",
       "      <td>0</td>\n",
       "    </tr>\n",
       "    <tr>\n",
       "      <th>4</th>\n",
       "      <td>47785.239255</td>\n",
       "      <td>4037.586145</td>\n",
       "      <td>36</td>\n",
       "      <td>1.0</td>\n",
       "      <td>0</td>\n",
       "    </tr>\n",
       "    <tr>\n",
       "      <th>5</th>\n",
       "      <td>NaN</td>\n",
       "      <td>18244.339419</td>\n",
       "      <td>36</td>\n",
       "      <td>1.0</td>\n",
       "      <td>0</td>\n",
       "    </tr>\n",
       "    <tr>\n",
       "      <th>6</th>\n",
       "      <td>NaN</td>\n",
       "      <td>23366.013955</td>\n",
       "      <td>60</td>\n",
       "      <td>1.0</td>\n",
       "      <td>1</td>\n",
       "    </tr>\n",
       "    <tr>\n",
       "      <th>7</th>\n",
       "      <td>65813.825125</td>\n",
       "      <td>8742.153888</td>\n",
       "      <td>60</td>\n",
       "      <td>1.0</td>\n",
       "      <td>0</td>\n",
       "    </tr>\n",
       "    <tr>\n",
       "      <th>8</th>\n",
       "      <td>43549.461053</td>\n",
       "      <td>26035.434321</td>\n",
       "      <td>36</td>\n",
       "      <td>1.0</td>\n",
       "      <td>1</td>\n",
       "    </tr>\n",
       "    <tr>\n",
       "      <th>9</th>\n",
       "      <td>61766.080785</td>\n",
       "      <td>18514.114056</td>\n",
       "      <td>60</td>\n",
       "      <td>1.0</td>\n",
       "      <td>0</td>\n",
       "    </tr>\n",
       "    <tr>\n",
       "      <th>10</th>\n",
       "      <td>43658.481529</td>\n",
       "      <td>11769.928865</td>\n",
       "      <td>36</td>\n",
       "      <td>1.0</td>\n",
       "      <td>1</td>\n",
       "    </tr>\n",
       "    <tr>\n",
       "      <th>11</th>\n",
       "      <td>43616.864436</td>\n",
       "      <td>15665.385534</td>\n",
       "      <td>36</td>\n",
       "      <td>1.0</td>\n",
       "      <td>0</td>\n",
       "    </tr>\n",
       "    <tr>\n",
       "      <th>12</th>\n",
       "      <td>56355.320888</td>\n",
       "      <td>19349.961475</td>\n",
       "      <td>36</td>\n",
       "      <td>0.0</td>\n",
       "      <td>1</td>\n",
       "    </tr>\n",
       "    <tr>\n",
       "      <th>13</th>\n",
       "      <td>17560.955596</td>\n",
       "      <td>16456.032348</td>\n",
       "      <td>36</td>\n",
       "      <td>0.0</td>\n",
       "      <td>1</td>\n",
       "    </tr>\n",
       "    <tr>\n",
       "      <th>14</th>\n",
       "      <td>20951.479015</td>\n",
       "      <td>19232.535955</td>\n",
       "      <td>60</td>\n",
       "      <td>1.0</td>\n",
       "      <td>0</td>\n",
       "    </tr>\n",
       "    <tr>\n",
       "      <th>15</th>\n",
       "      <td>41878.824474</td>\n",
       "      <td>10475.958442</td>\n",
       "      <td>36</td>\n",
       "      <td>1.0</td>\n",
       "      <td>1</td>\n",
       "    </tr>\n",
       "    <tr>\n",
       "      <th>16</th>\n",
       "      <td>33769.039834</td>\n",
       "      <td>17016.164944</td>\n",
       "      <td>36</td>\n",
       "      <td>0.0</td>\n",
       "      <td>1</td>\n",
       "    </tr>\n",
       "    <tr>\n",
       "      <th>17</th>\n",
       "      <td>57656.451987</td>\n",
       "      <td>7517.713019</td>\n",
       "      <td>60</td>\n",
       "      <td>1.0</td>\n",
       "      <td>1</td>\n",
       "    </tr>\n",
       "    <tr>\n",
       "      <th>18</th>\n",
       "      <td>35655.566641</td>\n",
       "      <td>15332.643632</td>\n",
       "      <td>36</td>\n",
       "      <td>1.0</td>\n",
       "      <td>0</td>\n",
       "    </tr>\n",
       "    <tr>\n",
       "      <th>19</th>\n",
       "      <td>26578.533376</td>\n",
       "      <td>10576.554151</td>\n",
       "      <td>36</td>\n",
       "      <td>1.0</td>\n",
       "      <td>0</td>\n",
       "    </tr>\n",
       "  </tbody>\n",
       "</table>\n",
       "</div>"
      ],
      "text/plain": [
       "          income   loan_amount  term  credit_history  defaulted\n",
       "0   60940.854754  17402.715471    60             1.0          1\n",
       "1   49511.242579   6664.626123    36             0.0          0\n",
       "2   63658.393686  17985.281393    60             0.0          1\n",
       "3   79414.537415  21001.173770    36             1.0          0\n",
       "4   47785.239255   4037.586145    36             1.0          0\n",
       "5            NaN  18244.339419    36             1.0          0\n",
       "6            NaN  23366.013955    60             1.0          1\n",
       "7   65813.825125   8742.153888    60             1.0          0\n",
       "8   43549.461053  26035.434321    36             1.0          1\n",
       "9   61766.080785  18514.114056    60             1.0          0\n",
       "10  43658.481529  11769.928865    36             1.0          1\n",
       "11  43616.864436  15665.385534    36             1.0          0\n",
       "12  56355.320888  19349.961475    36             0.0          1\n",
       "13  17560.955596  16456.032348    36             0.0          1\n",
       "14  20951.479015  19232.535955    60             1.0          0\n",
       "15  41878.824474  10475.958442    36             1.0          1\n",
       "16  33769.039834  17016.164944    36             0.0          1\n",
       "17  57656.451987   7517.713019    60             1.0          1\n",
       "18  35655.566641  15332.643632    36             1.0          0\n",
       "19  26578.533376  10576.554151    36             1.0          0"
      ]
     },
     "execution_count": 4,
     "metadata": {},
     "output_type": "execute_result"
    }
   ],
   "source": [
    "loan_data=pd.read_csv('loan_data_1248_with_missing.csv')\n",
    "loan_data.head(20)"
   ]
  },
  {
   "cell_type": "markdown",
   "id": "af86c6f1",
   "metadata": {},
   "source": [
    "# **2. Handle Missing Values**"
   ]
  },
  {
   "cell_type": "markdown",
   "id": "0beb10cc",
   "metadata": {},
   "source": [
    "## check how many null value i have "
   ]
  },
  {
   "cell_type": "code",
   "execution_count": 5,
   "id": "14ac3e7b",
   "metadata": {},
   "outputs": [
    {
     "data": {
      "text/plain": [
       "income            120\n",
       "loan_amount       122\n",
       "term                0\n",
       "credit_history    112\n",
       "defaulted           0\n",
       "dtype: int64"
      ]
     },
     "execution_count": 5,
     "metadata": {},
     "output_type": "execute_result"
    }
   ],
   "source": [
    "loan_data.isnull().sum()"
   ]
  },
  {
   "cell_type": "markdown",
   "id": "20128788",
   "metadata": {},
   "source": [
    "##  Impute 'income' and 'loan_amount' with its median and 'credit_history' with its mode"
   ]
  },
  {
   "cell_type": "code",
   "execution_count": 6,
   "id": "17cae314",
   "metadata": {},
   "outputs": [
    {
     "name": "stderr",
     "output_type": "stream",
     "text": [
      "C:\\Users\\QUANTUM\\AppData\\Local\\Temp\\ipykernel_12696\\2695214883.py:1: FutureWarning: A value is trying to be set on a copy of a DataFrame or Series through chained assignment using an inplace method.\n",
      "The behavior will change in pandas 3.0. This inplace method will never work because the intermediate object on which we are setting values always behaves as a copy.\n",
      "\n",
      "For example, when doing 'df[col].method(value, inplace=True)', try using 'df.method({col: value}, inplace=True)' or df[col] = df[col].method(value) instead, to perform the operation inplace on the original object.\n",
      "\n",
      "\n",
      "  loan_data['income'].fillna(loan_data['income'].median(), inplace=True)\n",
      "C:\\Users\\QUANTUM\\AppData\\Local\\Temp\\ipykernel_12696\\2695214883.py:2: FutureWarning: A value is trying to be set on a copy of a DataFrame or Series through chained assignment using an inplace method.\n",
      "The behavior will change in pandas 3.0. This inplace method will never work because the intermediate object on which we are setting values always behaves as a copy.\n",
      "\n",
      "For example, when doing 'df[col].method(value, inplace=True)', try using 'df.method({col: value}, inplace=True)' or df[col] = df[col].method(value) instead, to perform the operation inplace on the original object.\n",
      "\n",
      "\n",
      "  loan_data['loan_amount'].fillna(loan_data['loan_amount'].median(), inplace=True)\n",
      "C:\\Users\\QUANTUM\\AppData\\Local\\Temp\\ipykernel_12696\\2695214883.py:3: FutureWarning: A value is trying to be set on a copy of a DataFrame or Series through chained assignment using an inplace method.\n",
      "The behavior will change in pandas 3.0. This inplace method will never work because the intermediate object on which we are setting values always behaves as a copy.\n",
      "\n",
      "For example, when doing 'df[col].method(value, inplace=True)', try using 'df.method({col: value}, inplace=True)' or df[col] = df[col].method(value) instead, to perform the operation inplace on the original object.\n",
      "\n",
      "\n",
      "  loan_data['credit_history'].fillna(loan_data['credit_history'].mode()[0], inplace=True)\n"
     ]
    }
   ],
   "source": [
    "loan_data['income'].fillna(loan_data['income'].median(), inplace=True)\n",
    "loan_data['loan_amount'].fillna(loan_data['loan_amount'].median(), inplace=True)\n",
    "loan_data['credit_history'].fillna(loan_data['credit_history'].mode()[0], inplace=True)"
   ]
  },
  {
   "cell_type": "markdown",
   "id": "f5cc091e",
   "metadata": {},
   "source": [
    "## Verify missing values after imputation"
   ]
  },
  {
   "cell_type": "code",
   "execution_count": 7,
   "id": "952e99ea",
   "metadata": {},
   "outputs": [
    {
     "name": "stdout",
     "output_type": "stream",
     "text": [
      "\n",
      "Missing Values After Imputation:\n"
     ]
    },
    {
     "data": {
      "text/plain": [
       "income            0\n",
       "loan_amount       0\n",
       "term              0\n",
       "credit_history    0\n",
       "defaulted         0\n",
       "dtype: int64"
      ]
     },
     "execution_count": 7,
     "metadata": {},
     "output_type": "execute_result"
    }
   ],
   "source": [
    "print(\"\\nMissing Values After Imputation:\")\n",
    "loan_data.isnull().sum()"
   ]
  },
  {
   "cell_type": "markdown",
   "id": "c8dd51cd",
   "metadata": {},
   "source": [
    "## Descriptive Statistics "
   ]
  },
  {
   "cell_type": "code",
   "execution_count": 8,
   "id": "010d2484",
   "metadata": {},
   "outputs": [
    {
     "data": {
      "text/html": [
       "<div>\n",
       "<style scoped>\n",
       "    .dataframe tbody tr th:only-of-type {\n",
       "        vertical-align: middle;\n",
       "    }\n",
       "\n",
       "    .dataframe tbody tr th {\n",
       "        vertical-align: top;\n",
       "    }\n",
       "\n",
       "    .dataframe thead th {\n",
       "        text-align: right;\n",
       "    }\n",
       "</style>\n",
       "<table border=\"1\" class=\"dataframe\">\n",
       "  <thead>\n",
       "    <tr style=\"text-align: right;\">\n",
       "      <th></th>\n",
       "      <th>income</th>\n",
       "      <th>loan_amount</th>\n",
       "      <th>term</th>\n",
       "      <th>credit_history</th>\n",
       "      <th>defaulted</th>\n",
       "    </tr>\n",
       "  </thead>\n",
       "  <tbody>\n",
       "    <tr>\n",
       "      <th>count</th>\n",
       "      <td>1248.000000</td>\n",
       "      <td>1248.000000</td>\n",
       "      <td>1248.000000</td>\n",
       "      <td>1248.000000</td>\n",
       "      <td>1248.000000</td>\n",
       "    </tr>\n",
       "    <tr>\n",
       "      <th>mean</th>\n",
       "      <td>52500.945298</td>\n",
       "      <td>16167.787505</td>\n",
       "      <td>48.000000</td>\n",
       "      <td>0.771635</td>\n",
       "      <td>0.414263</td>\n",
       "    </tr>\n",
       "    <tr>\n",
       "      <th>std</th>\n",
       "      <td>16967.161028</td>\n",
       "      <td>5541.521139</td>\n",
       "      <td>12.004811</td>\n",
       "      <td>0.419948</td>\n",
       "      <td>0.492792</td>\n",
       "    </tr>\n",
       "    <tr>\n",
       "      <th>min</th>\n",
       "      <td>8000.000000</td>\n",
       "      <td>1000.000000</td>\n",
       "      <td>36.000000</td>\n",
       "      <td>0.000000</td>\n",
       "      <td>0.000000</td>\n",
       "    </tr>\n",
       "    <tr>\n",
       "      <th>25%</th>\n",
       "      <td>41673.912889</td>\n",
       "      <td>12772.722413</td>\n",
       "      <td>36.000000</td>\n",
       "      <td>1.000000</td>\n",
       "      <td>0.000000</td>\n",
       "    </tr>\n",
       "    <tr>\n",
       "      <th>50%</th>\n",
       "      <td>52462.564119</td>\n",
       "      <td>16052.247335</td>\n",
       "      <td>48.000000</td>\n",
       "      <td>1.000000</td>\n",
       "      <td>0.000000</td>\n",
       "    </tr>\n",
       "    <tr>\n",
       "      <th>75%</th>\n",
       "      <td>62987.634437</td>\n",
       "      <td>19610.211517</td>\n",
       "      <td>60.000000</td>\n",
       "      <td>1.000000</td>\n",
       "      <td>1.000000</td>\n",
       "    </tr>\n",
       "    <tr>\n",
       "      <th>max</th>\n",
       "      <td>121349.166832</td>\n",
       "      <td>35158.645407</td>\n",
       "      <td>60.000000</td>\n",
       "      <td>1.000000</td>\n",
       "      <td>1.000000</td>\n",
       "    </tr>\n",
       "  </tbody>\n",
       "</table>\n",
       "</div>"
      ],
      "text/plain": [
       "              income   loan_amount         term  credit_history    defaulted\n",
       "count    1248.000000   1248.000000  1248.000000     1248.000000  1248.000000\n",
       "mean    52500.945298  16167.787505    48.000000        0.771635     0.414263\n",
       "std     16967.161028   5541.521139    12.004811        0.419948     0.492792\n",
       "min      8000.000000   1000.000000    36.000000        0.000000     0.000000\n",
       "25%     41673.912889  12772.722413    36.000000        1.000000     0.000000\n",
       "50%     52462.564119  16052.247335    48.000000        1.000000     0.000000\n",
       "75%     62987.634437  19610.211517    60.000000        1.000000     1.000000\n",
       "max    121349.166832  35158.645407    60.000000        1.000000     1.000000"
      ]
     },
     "execution_count": 8,
     "metadata": {},
     "output_type": "execute_result"
    }
   ],
   "source": [
    "loan_data.describe()"
   ]
  },
  {
   "cell_type": "markdown",
   "id": "192e41bb",
   "metadata": {},
   "source": [
    "# **3. Exploratory Data Analysis (EDA) and Visualization**"
   ]
  },
  {
   "cell_type": "code",
   "execution_count": 22,
   "id": "6109bcd2",
   "metadata": {},
   "outputs": [
    {
     "data": {
      "text/plain": [
       "Index(['income', 'loan_amount', 'term', 'credit_history', 'defaulted',\n",
       "       'term_binary'],\n",
       "      dtype='object')"
      ]
     },
     "execution_count": 22,
     "metadata": {},
     "output_type": "execute_result"
    }
   ],
   "source": [
    "loan_data.columns"
   ]
  },
  {
   "cell_type": "code",
   "execution_count": 23,
   "id": "85135767",
   "metadata": {},
   "outputs": [
    {
     "name": "stdout",
     "output_type": "stream",
     "text": [
      "<class 'pandas.core.frame.DataFrame'>\n",
      "RangeIndex: 1248 entries, 0 to 1247\n",
      "Data columns (total 6 columns):\n",
      " #   Column          Non-Null Count  Dtype  \n",
      "---  ------          --------------  -----  \n",
      " 0   income          1248 non-null   float64\n",
      " 1   loan_amount     1248 non-null   float64\n",
      " 2   term            1248 non-null   int64  \n",
      " 3   credit_history  1248 non-null   float64\n",
      " 4   defaulted       1248 non-null   int64  \n",
      " 5   term_binary     1248 non-null   int64  \n",
      "dtypes: float64(3), int64(3)\n",
      "memory usage: 58.6 KB\n"
     ]
    }
   ],
   "source": [
    "loan_data.info()"
   ]
  },
  {
   "cell_type": "code",
   "execution_count": 9,
   "id": "b9047da4",
   "metadata": {},
   "outputs": [],
   "source": [
    "sns.set_style('darkgrid')"
   ]
  },
  {
   "cell_type": "markdown",
   "id": "9bad6914",
   "metadata": {},
   "source": [
    "##  Histograms for numerical features"
   ]
  },
  {
   "cell_type": "code",
   "execution_count": 10,
   "id": "adf2938b",
   "metadata": {},
   "outputs": [
    {
     "data": {
      "image/png": "[encoded data removed]",
      "text/plain": [
       "<Figure size 1400x400 with 2 Axes>"
      ]
     },
     "metadata": {},
     "output_type": "display_data"
    }
   ],
   "source": [
    "fig, axes = plt.subplots(1, 2, figsize=(14, 4))\n",
    "sns.histplot(loan_data['income'], kde=True, bins=30, ax=axes[0])\n",
    "axes[0].set_title('Income Distribution')\n",
    "sns.histplot(loan_data['loan_amount'], kde=True, bins=30, ax=axes[1])\n",
    "axes[1].set_title('Loan Amount Distribution')\n",
    "plt.tight_layout()\n",
    "plt.savefig('income_loan_amount_distribution.png')\n",
    "plt.show()"
   ]
  },
  {
   "cell_type": "markdown",
   "id": "9fc8bc81",
   "metadata": {},
   "source": [
    "## Count plot for Loan Term Distribution"
   ]
  },
  {
   "cell_type": "code",
   "execution_count": 11,
   "id": "78d759a4",
   "metadata": {},
   "outputs": [
    {
     "data": {
      "image/png": "[encoded data removed]",
      "text/plain": [
       "<Figure size 700x500 with 1 Axes>"
      ]
     },
     "metadata": {},
     "output_type": "display_data"
    }
   ],
   "source": [
    "plt.figure(figsize=(7, 5))\n",
    "sns.countplot(x='term', data=loan_data)\n",
    "plt.title('Loan Term Distribution')\n",
    "plt.xlabel('Loan Term (Months)')\n",
    "plt.ylabel('Count')\n",
    "plt.savefig('loan_term_distribution.png')\n",
    "plt.show()"
   ]
  },
  {
   "cell_type": "markdown",
   "id": "b29bffe3",
   "metadata": {},
   "source": [
    "##  Count plot for Credit History vs Defaulted Loans"
   ]
  },
  {
   "cell_type": "code",
   "execution_count": 14,
   "id": "0ae62534",
   "metadata": {},
   "outputs": [
    {
     "data": {
      "image/png": "[encoded data removed]",
      "text/plain": [
       "<Figure size 800x600 with 1 Axes>"
      ]
     },
     "metadata": {},
     "output_type": "display_data"
    }
   ],
   "source": [
    "plt.figure(figsize=(8, 6))\n",
    "sns.countplot(x='credit_history', hue='defaulted', data=loan_data)\n",
    "plt.title('Credit History vs Defaulted Loans')\n",
    "plt.xlabel('Credit History')\n",
    "plt.ylabel('Count')\n",
    "plt.legend(title='Defaulted')\n",
    "plt.savefig('credit_history_defaulted.png')\n",
    "plt.show()"
   ]
  },
  {
   "cell_type": "markdown",
   "id": "94e55e6b",
   "metadata": {},
   "source": [
    "## Correlation heatmap"
   ]
  },
  {
   "cell_type": "code",
   "execution_count": 15,
   "id": "b2322354",
   "metadata": {},
   "outputs": [
    {
     "data": {
      "image/png": "[encoded data removed]",
      "text/plain": [
       "<Figure size 1200x800 with 2 Axes>"
      ]
     },
     "metadata": {},
     "output_type": "display_data"
    }
   ],
   "source": [
    "plt.figure(figsize=(12, 8))\n",
    "sns.heatmap(loan_data.corr(numeric_only=True), annot=True, cmap='coolwarm', fmt='.2f')\n",
    "plt.title('Correlation Heatmap')\n",
    "plt.savefig('correlation_heatmap.png')\n",
    "plt.show()"
   ]
  },
  {
   "cell_type": "markdown",
   "id": "b07bc59a",
   "metadata": {},
   "source": [
    "# **4. Feature Engineering**"
   ]
  },
  {
   "cell_type": "markdown",
   "id": "4fad10c2",
   "metadata": {},
   "source": [
    "## Create 'term_binary' feature"
   ]
  },
  {
   "cell_type": "code",
   "execution_count": 16,
   "id": "07dd8dae",
   "metadata": {},
   "outputs": [],
   "source": [
    "loan_data['term_binary'] = loan_data['term'].apply(lambda x: 1 if x > 36 else 0)"
   ]
  },
  {
   "cell_type": "markdown",
   "id": "0e0df519",
   "metadata": {},
   "source": [
    "## Apply logarithmic transformation to skewed numerical features"
   ]
  },
  {
   "cell_type": "code",
   "execution_count": null,
   "id": "39658ffb",
   "metadata": {},
   "outputs": [],
   "source": [
    "loan_data['log_income'] = np.log(loan_data['income'])\n",
    "loan_data['log_loan_amount'] = np.log(loan_data['loan_amount'])"
   ]
  },
  {
   "cell_type": "markdown",
   "id": "de5dcf2b",
   "metadata": {},
   "source": [
    "## Visualize transformed numerical features"
   ]
  },
  {
   "cell_type": "code",
   "execution_count": 21,
   "id": "4f66b748",
   "metadata": {},
   "outputs": [
    {
     "data": {
      "image/png": "[encoded data removed]",
      "text/plain": [
       "<Figure size 1400x400 with 2 Axes>"
      ]
     },
     "metadata": {},
     "output_type": "display_data"
    }
   ],
   "source": [
    "fig, axes = plt.subplots(1, 2, figsize=(14, 4))\n",
    "sns.histplot(loan_data['income'], kde=True, bins=30, ax=axes[0])\n",
    "axes[0].set_title('Income Distribution')\n",
    "sns.histplot(loan_data['loan_amount'], kde=True, bins=30, ax=axes[1])\n",
    "axes[1].set_title('loan_amount Distribution')\n",
    "plt.tight_layout()\n",
    "plt.savefig('log_income_log_loan_amount_distribution.png')\n",
    "plt.show()"
   ]
  },
  {
   "cell_type": "markdown",
   "id": "de634add",
   "metadata": {},
   "source": [
    "## Visualize new 'term_binary' feature"
   ]
  },
  {
   "cell_type": "code",
   "execution_count": 25,
   "id": "739d738f",
   "metadata": {},
   "outputs": [
    {
     "data": {
      "image/png": "[encoded data removed]",
      "text/plain": [
       "<Figure size 700x500 with 1 Axes>"
      ]
     },
     "metadata": {},
     "output_type": "display_data"
    }
   ],
   "source": [
    "plt.figure(figsize=(7, 5))\n",
    "sns.countplot(x='term_binary', data=loan_data)\n",
    "plt.title('Loan Term Binary Distribution')\n",
    "plt.xlabel('Loan Term (0: 36 Months, 1: 60 Months)')\n",
    "plt.ylabel('Count')\n",
    "plt.savefig('term_binary_distribution.png')\n",
    "plt.show()"
   ]
  },
  {
   "cell_type": "markdown",
   "id": "ba88e987",
   "metadata": {},
   "source": [
    "# **5. Prepare Data for Modeling**"
   ]
  },
  {
   "cell_type": "markdown",
   "id": "5348e220",
   "metadata": {},
   "source": [
    "##  Define features and target"
   ]
  },
  {
   "cell_type": "code",
   "execution_count": 28,
   "id": "fbefa064",
   "metadata": {},
   "outputs": [],
   "source": [
    "features = ['income', 'loan_amount', 'term_binary', 'credit_history']\n",
    "target = 'defaulted'"
   ]
  },
  {
   "cell_type": "code",
   "execution_count": 29,
   "id": "881869ca",
   "metadata": {},
   "outputs": [],
   "source": [
    "X = loan_data[features]\n",
    "y = loan_data[target]"
   ]
  },
  {
   "cell_type": "markdown",
   "id": "67dbb2b5",
   "metadata": {},
   "source": [
    "## Train-test split"
   ]
  },
  {
   "cell_type": "code",
   "execution_count": null,
   "id": "acb28667",
   "metadata": {},
   "outputs": [],
   "source": [
    "x_train, x_test, y_train, y_test = train_test_split(X, y, test_size=0.2, random_state=42)"
   ]
  },
  {
   "cell_type": "markdown",
   "id": "51777443",
   "metadata": {},
   "source": [
    "# **6. Model Training and Evaluation**"
   ]
  },
  {
   "cell_type": "code",
   "execution_count": null,
   "id": "d897e1de",
   "metadata": {},
   "outputs": [],
   "source": [
    "models = {\n",
    "    'Logistic Regression': LogisticRegression(max_iter=1000, random_state=42),\n",
    "    'Decision Tree': DecisionTreeClassifier(random_state=42),\n",
    "    'Random Forest': RandomForestClassifier(n_estimators=100, random_state=42),\n",
    "}"
   ]
  },
  {
   "cell_type": "code",
   "execution_count": null,
   "id": "21e6bb3f",
   "metadata": {},
   "outputs": [],
   "source": [
    "results = {}\n",
    "\n",
    "for name, model in models.items():\n",
    "    print(f\"\\n--- Model: {name} ---\")\n",
    "    ## Create pipeline: scale numerical features if Logistic Regression, else direct classifier\n",
    "    if name == 'Logistic Regression':\n",
    "        pipeline = Pipeline([\n",
    "            ('scaler', StandardScaler()),\n",
    "            ('classifier', model)\n",
    "        ])\n",
    "    else:\n",
    "        pipeline = Pipeline([\n",
    "            ('classifier', model)\n",
    "        ])\n",
    "    \n",
    "    pipeline.fit(x_train, y_train)\n",
    "    y_pred = pipeline.predict(x_test)\n",
    "    y_prob = pipeline.predict_proba(x_test)[:, 1]\n",
    "\n",
    "    accuracy = accuracy_score(y_test, y_pred)\n",
    "    classification_rep = classification_report(y_test, y_pred)\n",
    "    conf_matrix = confusion_matrix(y_test, y_pred)\n",
    "\n",
    "    print(f\"Accuracy: {accuracy:.4f}\")\n",
    "    print(\"Classification Report:\")\n",
    "    print(classification_rep)\n",
    "    print(\"Confusion Matrix:\")\n",
    "    print(conf_matrix)\n",
    "\n",
    "    results[name] = {\n",
    "        'accuracy': accuracy,\n",
    "        'classification_report': classification_rep,\n",
    "        'confusion_matrix': conf_matrix,\n",
    "        'y_pred': y_pred,\n",
    "        'y_prob': y_prob,\n",
    "        'pipeline': pipeline \n",
    "    }\n",
    "\n",
    "    # Confusion Matrix Plot\n",
    "    plt.figure(figsize=(6, 5))\n",
    "    sns.heatmap(conf_matrix, annot=True, fmt='d', cmap='Blues', cbar=False,\n",
    "                xticklabels=['Not Defaulted', 'Defaulted'],\n",
    "                yticklabels=['Not Defaulted', 'Defaulted'])\n",
    "    plt.title(f'Confusion Matrix - {name}')\n",
    "    plt.xlabel('Predicted')\n",
    "    plt.ylabel('Actual')\n",
    "    plt.savefig(f'confusion_matrix_{name.replace(\" \", \"_\")}.png')\n",
    "    plt.show()\n",
    "\n",
    "    # ROC Curve\n",
    "    fpr, tpr, _ = roc_curve(y_test, y_prob)\n",
    "    roc_auc = auc(fpr, tpr)\n",
    "    plt.figure(figsize=(6, 5))\n",
    "    plt.plot(fpr, tpr, color='darkorange', lw=2, label=f'ROC curve (area = {roc_auc:.2f})')\n",
    "    plt.plot([0, 1], [0, 1], color='navy', lw=2, linestyle='--')\n",
    "    plt.xlim([0.0, 1.0])\n",
    "    plt.ylim([0.0, 1.05])\n",
    "    plt.xlabel('False Positive Rate')\n",
    "    plt.ylabel('True Positive Rate')\n",
    "    plt.title(f'ROC Curve - {name}')\n",
    "    plt.legend(loc=\"lower right\")\n",
    "    plt.savefig(f'roc_curve_{name.replace(\" \", \"_\")}.png')\n",
    "    plt.show()"
   ]
  },
  {
   "cell_type": "markdown",
   "id": "1fbfbff8",
   "metadata": {},
   "source": [
    "## Plot ROC Curve"
   ]
  },
  {
   "cell_type": "code",
   "execution_count": null,
   "id": "211a8f24",
   "metadata": {},
   "outputs": [],
   "source": [
    "fpr, tpr, _ = roc_curve(y_test, y_prob)\n",
    "roc_auc = auc(fpr, tpr)\n",
    "plt.figure(figsize=(6, 5))\n",
    "plt.plot(fpr, tpr, color='darkorange', lw=2, label=f'ROC curve (area = {roc_auc:.2f})')\n",
    "plt.plot([0, 1], [0, 1], color='navy', lw=2, linestyle='--')\n",
    "plt.xlim([0.0, 1.0])\n",
    "plt.ylim([0.0, 1.05])\n",
    "plt.xlabel('False Positive Rate')\n",
    "plt.ylabel('True Positive Rate')\n",
    "plt.title(f'Receiver Operating Characteristic - {name}')\n",
    "plt.legend(loc=\"lower right\")\n",
    "plt.savefig(f'roc_curve_{name.replace(\" \", \"_\")}.png')\n",
    "plt.show()"
   ]
  },
  {
   "cell_type": "markdown",
   "id": "f0886049",
   "metadata": {},
   "source": [
    "# **7. Hyperparameter Tuning**"
   ]
  },
  {
   "cell_type": "code",
   "execution_count": null,
   "id": "a080c12d",
   "metadata": {},
   "outputs": [],
   "source": [
    "print(\"\\n--- Hyperparameter Tuning for Logistic Regression ---\")"
   ]
  },
  {
   "cell_type": "markdown",
   "id": "7648401d",
   "metadata": {},
   "source": [
    "## Define parameter grid for GridSearchCV"
   ]
  },
  {
   "cell_type": "code",
   "execution_count": null,
   "id": "00e53675",
   "metadata": {},
   "outputs": [],
   "source": [
    "param_grid_lr = [\n",
    "    {'classifier__C': [0.001, 0.01, 0.1, 1, 10, 100], 'classifier__solver': ['liblinear'], 'classifier__penalty': ['l1', 'l2']},\n",
    "    {'classifier__C': [0.001, 0.01, 0.1, 1, 10, 100], 'classifier__solver': ['lbfgs'], 'classifier__penalty': ['l2']}\n",
    "]"
   ]
  },
  {
   "cell_type": "markdown",
   "id": "97b80480",
   "metadata": {},
   "source": [
    "## Create a pipeline for GridSearchCV, including the scaler"
   ]
  },
  {
   "cell_type": "code",
   "execution_count": null,
   "id": "9c5aaea4",
   "metadata": {},
   "outputs": [],
   "source": [
    "pipeline_lr_grid = Pipeline([\n",
    "    ('scaler', StandardScaler()),\n",
    "    ('classifier', LogisticRegression(max_iter=1000, random_state=42))\n",
    "])"
   ]
  },
  {
   "cell_type": "markdown",
   "id": "acf3feed",
   "metadata": {},
   "source": [
    "## Initialize GridSearchCV"
   ]
  },
  {
   "cell_type": "code",
   "execution_count": null,
   "id": "50aa6778",
   "metadata": {},
   "outputs": [],
   "source": [
    "param_grid_lr = {\n",
    "    'classifier__C': [0.01, 0.1, 1, 10],\n",
    "    'classifier__penalty': ['l2'],\n",
    "    'classifier__solver': ['lbfgs', 'liblinear']\n",
    "}\n",
    "grid_search_lr = GridSearchCV(pipeline_lr_grid, param_grid_lr, cv=5, scoring='accuracy', n_jobs=-1, verbose=1)"
   ]
  },
  {
   "cell_type": "markdown",
   "id": "57cad521",
   "metadata": {},
   "source": [
    "## Fit GridSearchCV to the training data"
   ]
  },
  {
   "cell_type": "code",
   "execution_count": null,
   "id": "ac292f68",
   "metadata": {},
   "outputs": [],
   "source": [
    "grid_search_lr.fit(x_train, y_train)"
   ]
  },
  {
   "cell_type": "markdown",
   "id": "eff69917",
   "metadata": {},
   "source": [
    "## Print best parameters and best cross-validation score"
   ]
  },
  {
   "cell_type": "code",
   "execution_count": null,
   "id": "8ee09c72",
   "metadata": {},
   "outputs": [],
   "source": [
    "print(f\"Best parameters for Logistic Regression: {grid_search_lr.best_params_}\")\n",
    "print(f\"Best cross-validation accuracy for Logistic Regression: {grid_search_lr.best_score_:.4f}\")"
   ]
  },
  {
   "cell_type": "markdown",
   "id": "d10a945b",
   "metadata": {},
   "source": [
    "## Evaluate the best Logistic Regression model on the test set"
   ]
  },
  {
   "cell_type": "code",
   "execution_count": null,
   "id": "963dcda1",
   "metadata": {},
   "outputs": [],
   "source": [
    "best_lr_pipeline = grid_search_lr.best_estimator_\n",
    "y_pred_lr_tuned = best_lr_pipeline.predict(x_test)\n",
    "y_prob_lr_tuned = best_lr_pipeline.predict_proba(x_test)[:, 1]"
   ]
  },
  {
   "cell_type": "markdown",
   "id": "af38d534",
   "metadata": {},
   "source": [
    "## Print evaluation metrics for the tuned model"
   ]
  },
  {
   "cell_type": "code",
   "execution_count": null,
   "id": "c94123e8",
   "metadata": {},
   "outputs": [],
   "source": [
    "print(f\"Tuned Logistic Regression Test Accuracy: {accuracy_score(y_test, y_pred_lr_tuned):.4f}\")\n",
    "print(\"Tuned Logistic Regression Classification Report:\")\n",
    "print(classification_report(y_test, y_pred_lr_tuned))\n",
    "print(\"Tuned Logistic Regression Confusion Matrix:\")\n",
    "print(confusion_matrix(y_test, y_pred_lr_tuned))"
   ]
  },
  {
   "cell_type": "markdown",
   "id": "d2288cb7",
   "metadata": {},
   "source": [
    "## Plot Tuned Logistic Regression Confusion Matrix"
   ]
  },
  {
   "cell_type": "code",
   "execution_count": null,
   "id": "6fd38eb8",
   "metadata": {},
   "outputs": [],
   "source": [
    "plt.figure(figsize=(6, 5))\n",
    "sns.heatmap(confusion_matrix(y_test, y_pred_lr_tuned), annot=True, fmt='d', cmap='Blues', cbar=False,\n",
    "            xticklabels=['Not Defaulted', 'Defaulted'],\n",
    "            yticklabels=['Not Defaulted', 'Defaulted'])\n",
    "plt.title('Confusion Matrix - Tuned Logistic Regression')\n",
    "plt.xlabel('Predicted')\n",
    "plt.ylabel('Actual')\n",
    "plt.savefig('confusion_matrix_tuned_logistic_regression.png')\n",
    "plt.show()"
   ]
  },
  {
   "cell_type": "markdown",
   "id": "9f058d88",
   "metadata": {},
   "source": [
    "## Plot Tuned Logistic Regression ROC Curve"
   ]
  },
  {
   "cell_type": "code",
   "execution_count": null,
   "id": "f64867e5",
   "metadata": {},
   "outputs": [],
   "source": [
    "fpr_lr_tuned, tpr_lr_tuned, _ = roc_curve(y_test, y_prob_lr_tuned)\n",
    "roc_auc_lr_tuned = auc(fpr_lr_tuned, tpr_lr_tuned)\n",
    "plt.figure(figsize=(6, 5))\n",
    "plt.plot(fpr_lr_tuned, tpr_lr_tuned, color='darkorange', lw=2, label=f'ROC curve (area = {roc_auc_lr_tuned:.2f})')\n",
    "plt.plot([0, 1], [0, 1], color='navy', lw=2, linestyle='--')\n",
    "plt.xlim([0.0, 1.0])\n",
    "plt.ylim([0.0, 1.05])\n",
    "plt.xlabel('False Positive Rate')\n",
    "plt.ylabel('True Positive Rate')\n",
    "plt.title('Receiver Operating Characteristic - Tuned Logistic Regression')\n",
    "plt.legend(loc=\"lower right\")\n",
    "plt.savefig('roc_curve_tuned_logistic_regression.png')\n",
    "plt.show()"
   ]
  },
  {
   "cell_type": "markdown",
   "id": "c6826a2d",
   "metadata": {},
   "source": [
    "# **8. Feature Importances for Tree-based Models**"
   ]
  },
  {
   "cell_type": "code",
   "execution_count": null,
   "id": "760a1471",
   "metadata": {},
   "outputs": [],
   "source": [
    "for name in ['Decision Tree', 'Random Forest']:\n",
    "    print(f\"\\n--- Feature Importances for {name} ---\")\n",
    "    classifier_model = results[name]['pipeline'].named_steps['classifier']\n",
    "    feature_importances = classifier_model.feature_importances_\n",
    "\n",
    "    importance_df = pd.DataFrame({'Feature': features, 'Importance': feature_importances})\n",
    "    importance_df = importance_df.sort_values(by='Importance', ascending=False)\n",
    "    print(importance_df)\n",
    "\n",
    "    plt.figure(figsize=(10, 6))\n",
    "    sns.barplot(x='Importance', y='Feature', data=importance_df)\n",
    "    plt.title(f'Feature Importances - {name}')\n",
    "    plt.xlabel('Importance')\n",
    "    plt.ylabel('Feature')\n",
    "    plt.tight_layout()\n",
    "    plt.savefig(f'feature_importances_{name.replace(\" \", \"_\")}.png')\n",
    "    plt.show()\n"
   ]
  }
 ],
 "metadata": {
  "kernelspec": {
   "display_name": "Python 3",
   "language": "python",
   "name": "python3"
  },
  "language_info": {
   "codemirror_mode": {
    "name": "ipython",
    "version": 3
   },
   "file_extension": ".py",
   "mimetype": "text/x-python",
   "name": "python",
   "nbconvert_exporter": "python",
   "pygments_lexer": "ipython3",
   "version": "3.13.5"
  }
 },
 "nbformat": 4,
 "nbformat_minor": 5
}
